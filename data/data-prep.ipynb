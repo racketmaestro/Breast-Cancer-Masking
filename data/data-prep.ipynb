{
 "cells": [
  {
   "cell_type": "markdown",
   "metadata": {},
   "source": [
    "# Preparing the data sets for both models\n",
    "### Sorting all the images into the required folders so that we can easily make datasets for training using the pytorch ImageFolder function"
   ]
  },
  {
   "cell_type": "code",
   "execution_count": 27,
   "metadata": {},
   "outputs": [],
   "source": [
    "import torch\n",
    "import torchvision\n",
    "import torchvision.transforms as transforms\n",
    "import pandas as pd\n",
    "import numpy as np\n",
    "import matplotlib.pyplot as plt\n",
    "import os\n",
    "import shutil\n",
    "from PIL import Image"
   ]
  },
  {
   "cell_type": "code",
   "execution_count": 6,
   "metadata": {},
   "outputs": [],
   "source": [
    "excel_path = '/Users/aveek/Downloads/MINI-DDSM-Complete-JPEG-8/DataWMask.xlsx'\n",
    "df = pd.read_excel(excel_path)"
   ]
  },
  {
   "cell_type": "code",
   "execution_count": 7,
   "metadata": {},
   "outputs": [
    {
     "data": {
      "text/html": [
       "<div>\n",
       "<style scoped>\n",
       "    .dataframe tbody tr th:only-of-type {\n",
       "        vertical-align: middle;\n",
       "    }\n",
       "\n",
       "    .dataframe tbody tr th {\n",
       "        vertical-align: top;\n",
       "    }\n",
       "\n",
       "    .dataframe thead th {\n",
       "        text-align: right;\n",
       "    }\n",
       "</style>\n",
       "<table border=\"1\" class=\"dataframe\">\n",
       "  <thead>\n",
       "    <tr style=\"text-align: right;\">\n",
       "      <th></th>\n",
       "      <th>fullPath</th>\n",
       "      <th>fileName</th>\n",
       "      <th>View</th>\n",
       "      <th>Side</th>\n",
       "      <th>Status</th>\n",
       "      <th>Tumour_Contour</th>\n",
       "      <th>Tumour_Contour2</th>\n",
       "      <th>Age</th>\n",
       "      <th>Density</th>\n",
       "    </tr>\n",
       "  </thead>\n",
       "  <tbody>\n",
       "    <tr>\n",
       "      <th>0</th>\n",
       "      <td>Benign\\0029\\C_0029_1.LEFT_CC.jpg</td>\n",
       "      <td>C_0029_1.LEFT_CC.jpg</td>\n",
       "      <td>CC</td>\n",
       "      <td>LEFT</td>\n",
       "      <td>Benign</td>\n",
       "      <td>Benign\\0029\\C_0029_1.LEFT_CC_Mask.jpg</td>\n",
       "      <td>-</td>\n",
       "      <td>66.0</td>\n",
       "      <td>3</td>\n",
       "    </tr>\n",
       "    <tr>\n",
       "      <th>1</th>\n",
       "      <td>Benign\\0029\\C_0029_1.LEFT_MLO.jpg</td>\n",
       "      <td>C_0029_1.LEFT_MLO.jpg</td>\n",
       "      <td>MLO</td>\n",
       "      <td>LEFT</td>\n",
       "      <td>Benign</td>\n",
       "      <td>Benign\\0029\\C_0029_1.LEFT_MLO_Mask.jpg</td>\n",
       "      <td>-</td>\n",
       "      <td>66.0</td>\n",
       "      <td>3</td>\n",
       "    </tr>\n",
       "    <tr>\n",
       "      <th>2</th>\n",
       "      <td>Benign\\0029\\C_0029_1.RIGHT_CC.jpg</td>\n",
       "      <td>C_0029_1.RIGHT_CC.jpg</td>\n",
       "      <td>CC</td>\n",
       "      <td>RIGHT</td>\n",
       "      <td>Benign</td>\n",
       "      <td>-</td>\n",
       "      <td>-</td>\n",
       "      <td>66.0</td>\n",
       "      <td>3</td>\n",
       "    </tr>\n",
       "    <tr>\n",
       "      <th>3</th>\n",
       "      <td>Benign\\0029\\C_0029_1.RIGHT_MLO.jpg</td>\n",
       "      <td>C_0029_1.RIGHT_MLO.jpg</td>\n",
       "      <td>MLO</td>\n",
       "      <td>RIGHT</td>\n",
       "      <td>Benign</td>\n",
       "      <td>-</td>\n",
       "      <td>-</td>\n",
       "      <td>66.0</td>\n",
       "      <td>3</td>\n",
       "    </tr>\n",
       "    <tr>\n",
       "      <th>4</th>\n",
       "      <td>Benign\\0033\\C_0033_1.LEFT_CC.jpg</td>\n",
       "      <td>C_0033_1.LEFT_CC.jpg</td>\n",
       "      <td>CC</td>\n",
       "      <td>LEFT</td>\n",
       "      <td>Benign</td>\n",
       "      <td>-</td>\n",
       "      <td>-</td>\n",
       "      <td>60.0</td>\n",
       "      <td>3</td>\n",
       "    </tr>\n",
       "  </tbody>\n",
       "</table>\n",
       "</div>"
      ],
      "text/plain": [
       "                             fullPath                fileName View   Side  \\\n",
       "0    Benign\\0029\\C_0029_1.LEFT_CC.jpg    C_0029_1.LEFT_CC.jpg   CC   LEFT   \n",
       "1   Benign\\0029\\C_0029_1.LEFT_MLO.jpg   C_0029_1.LEFT_MLO.jpg  MLO   LEFT   \n",
       "2   Benign\\0029\\C_0029_1.RIGHT_CC.jpg   C_0029_1.RIGHT_CC.jpg   CC  RIGHT   \n",
       "3  Benign\\0029\\C_0029_1.RIGHT_MLO.jpg  C_0029_1.RIGHT_MLO.jpg  MLO  RIGHT   \n",
       "4    Benign\\0033\\C_0033_1.LEFT_CC.jpg    C_0033_1.LEFT_CC.jpg   CC   LEFT   \n",
       "\n",
       "   Status                          Tumour_Contour Tumour_Contour2   Age  \\\n",
       "0  Benign   Benign\\0029\\C_0029_1.LEFT_CC_Mask.jpg               -  66.0   \n",
       "1  Benign  Benign\\0029\\C_0029_1.LEFT_MLO_Mask.jpg               -  66.0   \n",
       "2  Benign                                       -               -  66.0   \n",
       "3  Benign                                       -               -  66.0   \n",
       "4  Benign                                       -               -  60.0   \n",
       "\n",
       "   Density  \n",
       "0        3  \n",
       "1        3  \n",
       "2        3  \n",
       "3        3  \n",
       "4        3  "
      ]
     },
     "execution_count": 7,
     "metadata": {},
     "output_type": "execute_result"
    }
   ],
   "source": [
    "df.head()"
   ]
  },
  {
   "cell_type": "markdown",
   "metadata": {},
   "source": [
    "## Process\n",
    "\n",
    "#### Part 1: detection of tumours\n",
    "- Create folders for tumour (1) and no tumour (0)<br>\n",
    "- Gonna cycle through every filepath in the excel and check for whether tumour_contour path is not empty, so tumour is present <br>\n",
    "- if tumour present, image copied to '1' folder, otherwise copied to 0 folder\n",
    "  - this means that we are doing a breast by breast approach, rather than by the patients in the folder. basically, as long as one breast has a tumour detected, the patient is classified as cancerous and put in the benign/cancer folder, but that doesnt mean that there are tumours in both breasts. we hence need to classify each breast separately as cancerous or not, rather than the image\n",
    "  - will have to apply this system when doing our metrics as well\n",
    "\n",
    "<br>\n",
    "\n",
    "#### Part 2: classification of breast density\n",
    "Create folders for the different density classifications 1,2,3,4 corresponding to A,B,C,D\n",
    "- may be a bit more challenging as both breasts are given the same density classification\n",
    "- cycle through each breast, and put them in corresponding folders 1,2,3,4\n",
    "\n",
    "_______________\n"
   ]
  },
  {
   "cell_type": "code",
   "execution_count": null,
   "metadata": {},
   "outputs": [],
   "source": []
  },
  {
   "cell_type": "code",
   "execution_count": null,
   "metadata": {},
   "outputs": [],
   "source": []
  },
  {
   "cell_type": "code",
   "execution_count": 99,
   "metadata": {},
   "outputs": [],
   "source": [
    "# helper functions\n",
    "\n",
    "# don't really need this helper function anymore as we're not flipping images\n",
    "def save_images(path, new_path):\n",
    "    \"\"\"saves / copies images into new folders. flips left view images to right view to standardise view\n",
    "\n",
    "    Args:\n",
    "        path (string): original path to read images\n",
    "        new_path (string): new training data folders for model training\n",
    "    \"\"\"\n",
    "    \n",
    "    if 'LEFT' in path:\n",
    "        # print('here')\n",
    "        \n",
    "        im = Image.open(path)\n",
    "        im = im.transpose(Image.FLIP_LEFT_RIGHT)\n",
    "        \n",
    "        name = path.split('/')[-1]\n",
    "        # print(name)\n",
    "        im = im.save(new_path + name)\n",
    "        return 0\n",
    "        \n",
    "    else:\n",
    "        shutil.copy(path, new_path)\n",
    "        return 1\n",
    "        \n",
    "    # return count_L, count_R"
   ]
  },
  {
   "cell_type": "code",
   "execution_count": null,
   "metadata": {},
   "outputs": [],
   "source": []
  },
  {
   "cell_type": "markdown",
   "metadata": {},
   "source": [
    "______\n",
    "## Part 1 : Tumour detection"
   ]
  },
  {
   "cell_type": "code",
   "execution_count": 102,
   "metadata": {},
   "outputs": [],
   "source": [
    "# was trying to do it some way which included flipping the images into the same view, but decided against it\n",
    "ddsm_path = '/Users/aveek/Downloads/MINI-DDSM-Complete-JPEG-8/'\n",
    "\n",
    "tumour_path = '/Users/aveek/development/breast-cancer-masking/Breast-Cancer-Masking/training-data/tumour-detection/1/'\n",
    "no_tumour_path = '/Users/aveek/development/breast-cancer-masking/Breast-Cancer-Masking/training-data/tumour-detection/0/'\n",
    "\n",
    "\n",
    "for idx in df.index[:]:\n",
    "    # print(idx)\n",
    "    # print(df.iloc[idx].Tumour_Contour)\n",
    "    contour_path = df.iloc[idx].Tumour_Contour\n",
    "    img_path = df.iloc[idx].fullPath\n",
    "    img_path = img_path.replace('\\\\', '/')\n",
    "    \n",
    "    # print((ddsm_path+img_path).split('.')[1])\n",
    "    \n",
    "    if contour_path == '-':\n",
    "        # this means no tumour in this image\n",
    "        shutil.copy(ddsm_path+img_path, no_tumour_path)\n",
    "        \n",
    "    else:\n",
    "        # tumour present in this image\n",
    "        shutil.copy(ddsm_path+img_path, tumour_path)\n",
    "        \n",
    "\n",
    "# print(count_L,count_R)\n"
   ]
  },
  {
   "cell_type": "code",
   "execution_count": null,
   "metadata": {},
   "outputs": [
    {
     "data": {
      "text/plain": [
       "Status\n",
       "Cancer    2716\n",
       "Benign    2684\n",
       "Normal    2408\n",
       "Name: count, dtype: int64"
      ]
     },
     "metadata": {},
     "output_type": "display_data"
    }
   ],
   "source": [
    "df.Status.value_counts()"
   ]
  },
  {
   "cell_type": "markdown",
   "metadata": {},
   "source": [
    "_____\n",
    "## Part 2: Density classification"
   ]
  },
  {
   "cell_type": "code",
   "execution_count": 69,
   "metadata": {},
   "outputs": [
    {
     "data": {
      "text/plain": [
       "Density\n",
       "2    3020\n",
       "3    2320\n",
       "4    1388\n",
       "1    1076\n",
       "0       4\n",
       "Name: count, dtype: int64"
      ]
     },
     "execution_count": 69,
     "metadata": {},
     "output_type": "execute_result"
    }
   ],
   "source": [
    "df.Density.value_counts()"
   ]
  },
  {
   "cell_type": "markdown",
   "metadata": {},
   "source": [
    "#### not sute why there are 4 counts of density class 0, there should only be 4 classes and i assume ABCD is 1234"
   ]
  },
  {
   "cell_type": "code",
   "execution_count": 68,
   "metadata": {},
   "outputs": [
    {
     "data": {
      "text/html": [
       "<div>\n",
       "<style scoped>\n",
       "    .dataframe tbody tr th:only-of-type {\n",
       "        vertical-align: middle;\n",
       "    }\n",
       "\n",
       "    .dataframe tbody tr th {\n",
       "        vertical-align: top;\n",
       "    }\n",
       "\n",
       "    .dataframe thead th {\n",
       "        text-align: right;\n",
       "    }\n",
       "</style>\n",
       "<table border=\"1\" class=\"dataframe\">\n",
       "  <thead>\n",
       "    <tr style=\"text-align: right;\">\n",
       "      <th></th>\n",
       "      <th>fullPath</th>\n",
       "      <th>fileName</th>\n",
       "      <th>View</th>\n",
       "      <th>Side</th>\n",
       "      <th>Status</th>\n",
       "      <th>Tumour_Contour</th>\n",
       "      <th>Tumour_Contour2</th>\n",
       "      <th>Age</th>\n",
       "      <th>Density</th>\n",
       "    </tr>\n",
       "  </thead>\n",
       "  <tbody>\n",
       "    <tr>\n",
       "      <th>4236</th>\n",
       "      <td>Cancer\\1825\\A_1825_1.LEFT_CC.jpg</td>\n",
       "      <td>A_1825_1.LEFT_CC.jpg</td>\n",
       "      <td>CC</td>\n",
       "      <td>LEFT</td>\n",
       "      <td>Cancer</td>\n",
       "      <td>-</td>\n",
       "      <td>-</td>\n",
       "      <td>52.0</td>\n",
       "      <td>0</td>\n",
       "    </tr>\n",
       "    <tr>\n",
       "      <th>4237</th>\n",
       "      <td>Cancer\\1825\\A_1825_1.LEFT_MLO.jpg</td>\n",
       "      <td>A_1825_1.LEFT_MLO.jpg</td>\n",
       "      <td>MLO</td>\n",
       "      <td>LEFT</td>\n",
       "      <td>Cancer</td>\n",
       "      <td>-</td>\n",
       "      <td>-</td>\n",
       "      <td>52.0</td>\n",
       "      <td>0</td>\n",
       "    </tr>\n",
       "    <tr>\n",
       "      <th>4238</th>\n",
       "      <td>Cancer\\1825\\A_1825_1.RIGHT_CC.jpg</td>\n",
       "      <td>A_1825_1.RIGHT_CC.jpg</td>\n",
       "      <td>CC</td>\n",
       "      <td>RIGHT</td>\n",
       "      <td>Cancer</td>\n",
       "      <td>Cancer\\1825\\A_1825_1.RIGHT_CC_Mask.jpg</td>\n",
       "      <td>-</td>\n",
       "      <td>52.0</td>\n",
       "      <td>0</td>\n",
       "    </tr>\n",
       "    <tr>\n",
       "      <th>4239</th>\n",
       "      <td>Cancer\\1825\\A_1825_1.RIGHT_MLO.jpg</td>\n",
       "      <td>A_1825_1.RIGHT_MLO.jpg</td>\n",
       "      <td>MLO</td>\n",
       "      <td>RIGHT</td>\n",
       "      <td>Cancer</td>\n",
       "      <td>Cancer\\1825\\A_1825_1.RIGHT_MLO_Mask.jpg</td>\n",
       "      <td>-</td>\n",
       "      <td>52.0</td>\n",
       "      <td>0</td>\n",
       "    </tr>\n",
       "  </tbody>\n",
       "</table>\n",
       "</div>"
      ],
      "text/plain": [
       "                                fullPath                fileName View   Side  \\\n",
       "4236    Cancer\\1825\\A_1825_1.LEFT_CC.jpg    A_1825_1.LEFT_CC.jpg   CC   LEFT   \n",
       "4237   Cancer\\1825\\A_1825_1.LEFT_MLO.jpg   A_1825_1.LEFT_MLO.jpg  MLO   LEFT   \n",
       "4238   Cancer\\1825\\A_1825_1.RIGHT_CC.jpg   A_1825_1.RIGHT_CC.jpg   CC  RIGHT   \n",
       "4239  Cancer\\1825\\A_1825_1.RIGHT_MLO.jpg  A_1825_1.RIGHT_MLO.jpg  MLO  RIGHT   \n",
       "\n",
       "      Status                           Tumour_Contour Tumour_Contour2   Age  \\\n",
       "4236  Cancer                                        -               -  52.0   \n",
       "4237  Cancer                                        -               -  52.0   \n",
       "4238  Cancer   Cancer\\1825\\A_1825_1.RIGHT_CC_Mask.jpg               -  52.0   \n",
       "4239  Cancer  Cancer\\1825\\A_1825_1.RIGHT_MLO_Mask.jpg               -  52.0   \n",
       "\n",
       "      Density  \n",
       "4236        0  \n",
       "4237        0  \n",
       "4238        0  \n",
       "4239        0  "
      ]
     },
     "execution_count": 68,
     "metadata": {},
     "output_type": "execute_result"
    }
   ],
   "source": [
    "df.loc[df.Density == 0]"
   ]
  },
  {
   "cell_type": "markdown",
   "metadata": {},
   "source": [
    "#### seems like it's only this one patient that is classified as 0. some kinda mistake so can ignore i guess"
   ]
  },
  {
   "cell_type": "markdown",
   "metadata": {},
   "source": [
    "### sorting the images into 0,1,2,3 folders"
   ]
  },
  {
   "cell_type": "code",
   "execution_count": 103,
   "metadata": {},
   "outputs": [
    {
     "ename": "FileNotFoundError",
     "evalue": "[Errno 2] No such file or directory: '/Users/aveek/development/breast-cancer-masking/Breast-Cancer-Masking/training-data/density-classification-2/2/'",
     "output_type": "error",
     "traceback": [
      "\u001b[0;31m---------------------------------------------------------------------------\u001b[0m",
      "\u001b[0;31mFileNotFoundError\u001b[0m                         Traceback (most recent call last)",
      "Cell \u001b[0;32mIn[103], line 16\u001b[0m\n\u001b[1;32m     12\u001b[0m img_path \u001b[38;5;241m=\u001b[39m img_path\u001b[38;5;241m.\u001b[39mreplace(\u001b[38;5;124m'\u001b[39m\u001b[38;5;130;01m\\\\\u001b[39;00m\u001b[38;5;124m'\u001b[39m, \u001b[38;5;124m'\u001b[39m\u001b[38;5;124m/\u001b[39m\u001b[38;5;124m'\u001b[39m)\n\u001b[1;32m     14\u001b[0m \u001b[38;5;66;03m# print((ddsm_path+img_path).split('.')[1])\u001b[39;00m\n\u001b[0;32m---> 16\u001b[0m \u001b[43mshutil\u001b[49m\u001b[38;5;241;43m.\u001b[39;49m\u001b[43mcopy\u001b[49m\u001b[43m(\u001b[49m\u001b[43mddsm_path\u001b[49m\u001b[38;5;241;43m+\u001b[39;49m\u001b[43mimg_path\u001b[49m\u001b[43m,\u001b[49m\u001b[43m \u001b[49m\u001b[43msave_path\u001b[49m\u001b[38;5;241;43m+\u001b[39;49m\u001b[43mlabels\u001b[49m\u001b[43m[\u001b[49m\u001b[43md_class\u001b[49m\u001b[38;5;241;43m-\u001b[39;49m\u001b[38;5;241;43m1\u001b[39;49m\u001b[43m]\u001b[49m\u001b[38;5;241;43m+\u001b[39;49m\u001b[38;5;124;43m'\u001b[39;49m\u001b[38;5;124;43m/\u001b[39;49m\u001b[38;5;124;43m'\u001b[39;49m\u001b[43m)\u001b[49m\n\u001b[1;32m     17\u001b[0m \u001b[38;5;66;03m# note the difference between the classification labels on the excel file (1-4) and the labels i am using \u001b[39;00m\n\u001b[1;32m     18\u001b[0m \u001b[38;5;66;03m# for the folders (0-3) which is used in machine learning model ouputs (like how we index in python)\u001b[39;00m\n",
      "File \u001b[0;32m/Library/Frameworks/Python.framework/Versions/3.10/lib/python3.10/shutil.py:417\u001b[0m, in \u001b[0;36mcopy\u001b[0;34m(src, dst, follow_symlinks)\u001b[0m\n\u001b[1;32m    415\u001b[0m \u001b[38;5;28;01mif\u001b[39;00m os\u001b[38;5;241m.\u001b[39mpath\u001b[38;5;241m.\u001b[39misdir(dst):\n\u001b[1;32m    416\u001b[0m     dst \u001b[38;5;241m=\u001b[39m os\u001b[38;5;241m.\u001b[39mpath\u001b[38;5;241m.\u001b[39mjoin(dst, os\u001b[38;5;241m.\u001b[39mpath\u001b[38;5;241m.\u001b[39mbasename(src))\n\u001b[0;32m--> 417\u001b[0m \u001b[43mcopyfile\u001b[49m\u001b[43m(\u001b[49m\u001b[43msrc\u001b[49m\u001b[43m,\u001b[49m\u001b[43m \u001b[49m\u001b[43mdst\u001b[49m\u001b[43m,\u001b[49m\u001b[43m \u001b[49m\u001b[43mfollow_symlinks\u001b[49m\u001b[38;5;241;43m=\u001b[39;49m\u001b[43mfollow_symlinks\u001b[49m\u001b[43m)\u001b[49m\n\u001b[1;32m    418\u001b[0m copymode(src, dst, follow_symlinks\u001b[38;5;241m=\u001b[39mfollow_symlinks)\n\u001b[1;32m    419\u001b[0m \u001b[38;5;28;01mreturn\u001b[39;00m dst\n",
      "File \u001b[0;32m/Library/Frameworks/Python.framework/Versions/3.10/lib/python3.10/shutil.py:256\u001b[0m, in \u001b[0;36mcopyfile\u001b[0;34m(src, dst, follow_symlinks)\u001b[0m\n\u001b[1;32m    254\u001b[0m \u001b[38;5;28;01mwith\u001b[39;00m \u001b[38;5;28mopen\u001b[39m(src, \u001b[38;5;124m'\u001b[39m\u001b[38;5;124mrb\u001b[39m\u001b[38;5;124m'\u001b[39m) \u001b[38;5;28;01mas\u001b[39;00m fsrc:\n\u001b[1;32m    255\u001b[0m     \u001b[38;5;28;01mtry\u001b[39;00m:\n\u001b[0;32m--> 256\u001b[0m         \u001b[38;5;28;01mwith\u001b[39;00m \u001b[38;5;28;43mopen\u001b[39;49m\u001b[43m(\u001b[49m\u001b[43mdst\u001b[49m\u001b[43m,\u001b[49m\u001b[43m \u001b[49m\u001b[38;5;124;43m'\u001b[39;49m\u001b[38;5;124;43mwb\u001b[39;49m\u001b[38;5;124;43m'\u001b[39;49m\u001b[43m)\u001b[49m \u001b[38;5;28;01mas\u001b[39;00m fdst:\n\u001b[1;32m    257\u001b[0m             \u001b[38;5;66;03m# macOS\u001b[39;00m\n\u001b[1;32m    258\u001b[0m             \u001b[38;5;28;01mif\u001b[39;00m _HAS_FCOPYFILE:\n\u001b[1;32m    259\u001b[0m                 \u001b[38;5;28;01mtry\u001b[39;00m:\n",
      "\u001b[0;31mFileNotFoundError\u001b[0m: [Errno 2] No such file or directory: '/Users/aveek/development/breast-cancer-masking/Breast-Cancer-Masking/training-data/density-classification-2/2/'"
     ]
    }
   ],
   "source": [
    "ddsm_path = '/Users/aveek/Downloads/MINI-DDSM-Complete-JPEG-8/'\n",
    "\n",
    "\n",
    "save_path = '/Users/aveek/development/breast-cancer-masking/Breast-Cancer-Masking/training-data/density-classification/'\n",
    "labels = ['0','1','2','3']\n",
    "\n",
    "for idx in df.index:\n",
    "    # print(idx)\n",
    "    # print(df.iloc[idx].Tumour_Contour)\n",
    "    d_class = df.iloc[idx].Density\n",
    "    img_path = df.iloc[idx].fullPath\n",
    "    img_path = img_path.replace('\\\\', '/')\n",
    "    \n",
    "    # print((ddsm_path+img_path).split('.')[1])\n",
    "    \n",
    "    shutil.copy(ddsm_path+img_path, save_path+labels[d_class-1]+'/')\n",
    "    # note the difference between the classification labels on the excel file (1-4) and the labels i am using \n",
    "    # for the folders (0-3) which is used in machine learning model ouputs (like how we index in python)\n",
    "\n"
   ]
  },
  {
   "cell_type": "code",
   "execution_count": 76,
   "metadata": {},
   "outputs": [],
   "source": [
    "save_images('/Users/aveek/Downloads/MINI-DDSM-Complete-JPEG-8/Benign/0236/C_0236_1.LEFT_MLO.jpg','/Users/aveek/development/breast-cancer-masking/Breast-Cancer-Masking/training-data/tumour-detection/test/')"
   ]
  },
  {
   "cell_type": "markdown",
   "metadata": {},
   "source": []
  },
  {
   "cell_type": "code",
   "execution_count": null,
   "metadata": {},
   "outputs": [],
   "source": []
  },
  {
   "cell_type": "code",
   "execution_count": 101,
   "metadata": {},
   "outputs": [
    {
     "name": "stdout",
     "output_type": "stream",
     "text": [
      "3904 3904\n"
     ]
    }
   ],
   "source": [
    "# was trying to do it some way which included flipping the images into the same view, but decided against it\n",
    "ddsm_path = '/Users/aveek/Downloads/MINI-DDSM-Complete-JPEG-8/'\n",
    "\n",
    "tumour_path = '/Users/aveek/development/breast-cancer-masking/Breast-Cancer-Masking/training-data/tumour-detection/1/'\n",
    "no_tumour_path = '/Users/aveek/development/breast-cancer-masking/Breast-Cancer-Masking/training-data/tumour-detection/0/'\n",
    "\n",
    "test_path = '/Users/aveek/development/breast-cancer-masking/Breast-Cancer-Masking/training-data/tumour-detection/test/'\n",
    "\n",
    "count_L = 0\n",
    "count_R = 0\n",
    "\n",
    "for idx in df.index[:]:\n",
    "    # print(idx)\n",
    "    # print(df.iloc[idx].Tumour_Contour)\n",
    "    contour_path = df.iloc[idx].Tumour_Contour\n",
    "    img_path = df.iloc[idx].fullPath\n",
    "    img_path = img_path.replace('\\\\', '/')\n",
    "    \n",
    "    # print((ddsm_path+img_path).split('.')[1])\n",
    "    \n",
    "    \n",
    "    if contour_path == '-':\n",
    "        # this means no tumour in this image\n",
    "        save_images(ddsm_path+img_path, no_tumour_path)\n",
    "        \n",
    "    else:\n",
    "        # tumour present in this image\n",
    "        save_images(ddsm_path+img_path, tumour_path)\n",
    "        \n",
    "\n",
    "# print(count_L,count_R)\n"
   ]
  },
  {
   "cell_type": "markdown",
   "metadata": {},
   "source": []
  },
  {
   "cell_type": "markdown",
   "metadata": {},
   "source": [
    "## seems like it's more complicated than i thought..... \n",
    "there was an issue with the laterality of some images so i went to debugging and looking at the \n",
    "differences in the ics files and found out that there are 2 different 'Digitizers' used. the images that use Lumisys\n",
    "have the correct laterality while the ones that use HOWTEK 43.5 have the opposite laterality.....\n",
    "so seems like we gotta check the digitizer as well first before sorting the laterality. hais\n",
    "\n",
    "### oh no turns out its still wrong as some files digitzed with howtek 43.5 are in the correct laterality\n",
    "#### think the only way forward is to do a check of pixel values on left and rigth to determine the laterality"
   ]
  }
 ],
 "metadata": {
  "kernelspec": {
   "display_name": "breast_cancer_masking_venv",
   "language": "python",
   "name": "python3"
  },
  "language_info": {
   "codemirror_mode": {
    "name": "ipython",
    "version": 3
   },
   "file_extension": ".py",
   "mimetype": "text/x-python",
   "name": "python",
   "nbconvert_exporter": "python",
   "pygments_lexer": "ipython3",
   "version": "3.10.5"
  }
 },
 "nbformat": 4,
 "nbformat_minor": 2
}
